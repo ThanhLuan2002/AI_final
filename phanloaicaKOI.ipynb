{
  "nbformat": 4,
  "nbformat_minor": 0,
  "metadata": {
    "colab": {
      "name": "CuoiKy.ipynb",
      "provenance": [],
      "collapsed_sections": []
    },
    "kernelspec": {
      "name": "python3",
      "display_name": "Python 3"
    },
    "language_info": {
      "name": "python"
    },
    "accelerator": "TPU",
    "gpuClass": "standard"
  },
  "cells": [
    {
      "cell_type": "code",
      "execution_count": null,
      "metadata": {
        "colab": {
          "base_uri": "https://localhost:8080/"
        },
        "id": "hk7jVQAlXl4o",
        "outputId": "4a38c053-ba06-4b32-dc5b-38d4cef2e9b7"
      },
      "outputs": [
        {
          "output_type": "stream",
          "name": "stdout",
          "text": [
            "Mounted at /content/drive\n"
          ]
        }
      ],
      "source": [
        "#ket noi voi drive\n",
        "from google.colab import drive\n",
        "drive.mount('/content/drive')"
      ]
    },
    {
      "cell_type": "code",
      "source": [
        "import numpy as np # linear algebra\n",
        "import pandas as pd # data processing, CSV file I/O (e.g. pd.read_csv)\n",
        "import os\n",
        "from keras.models import Sequential\n",
        "from keras.layers import Conv2D, MaxPooling2D, Dense, Flatten, Dropout\n",
        "from keras.preprocessing.image import ImageDataGenerator"
      ],
      "metadata": {
        "id": "fUiPL5h-XtGH"
      },
      "execution_count": null,
      "outputs": []
    },
    {
      "cell_type": "code",
      "source": [
        "path = '/content/drive/MyDrive/Final'\n",
        "\n",
        "train_datagen =ImageDataGenerator(rescale=1./255,validation_split=0.2)\n",
        "\n",
        "# Tạo bộ dữ liệu training set\n",
        "training_set=train_datagen.flow_from_directory('/content/drive/MyDrive/Final/Train',target_size=(256,256), batch_size=128, class_mode='categorical')\n",
        "\n",
        "# Tạo bộ dữ liệu validation\n",
        "validation=train_datagen.flow_from_directory('/content/drive/MyDrive/Final/validation',target_size=(256,256), batch_size=128, class_mode='categorical')\n",
        "\n",
        "# Các nhãn có trong bộ dữ liệu training set\n",
        "training_set.class_indices"
      ],
      "metadata": {
        "colab": {
          "base_uri": "https://localhost:8080/"
        },
        "id": "aPC-GMppYYI0",
        "outputId": "d1e5986c-4c43-4c1d-b55d-6d265d71660b"
      },
      "execution_count": null,
      "outputs": [
        {
          "output_type": "stream",
          "name": "stdout",
          "text": [
            "Found 3990 images belonging to 10 classes.\n",
            "Found 1006 images belonging to 10 classes.\n"
          ]
        },
        {
          "output_type": "execute_result",
          "data": {
            "text/plain": [
              "{'Asagi': 0,\n",
              " 'Bekko': 1,\n",
              " 'Difference': 2,\n",
              " 'Hikarimuji mono': 3,\n",
              " 'Kohaku': 4,\n",
              " 'Sanke': 5,\n",
              " 'Showa': 6,\n",
              " 'Shusui': 7,\n",
              " 'Tancho': 8,\n",
              " 'Utsuri': 9}"
            ]
          },
          "metadata": {},
          "execution_count": 3
        }
      ]
    },
    {
      "cell_type": "code",
      "source": [
        "def CNN_model(input_shape):\n",
        "    input_img = tf.keras.Input(shape=input_shape)\n",
        "    X = tfl.Conv2D(8, kernel_size=(4,4), strides=(1,1), padding='SAME')(input_img)\n",
        "    X = tfl.ReLU()(X)\n",
        "    X = tfl.MaxPool2D(pool_size=(8,8), strides=(8,8), padding='SAME')(X)\n",
        "    X = tfl.Conv2D(16, kernel_size=(2,2), strides=(1,1), padding='SAME')(X)\n",
        "    X = tfl.ReLU()(X)\n",
        "    X = tfl.MaxPool2D(pool_size=(4,4), strides=(4,4), padding='SAME')(X)\n",
        "    X = tfl.Flatten()(X)\n",
        "    outputs = tfl.Dense(units=10, activation=\"softmax\")(X)\n",
        "\n",
        "    model = tf.keras.Model(inputs=input_img, outputs=outputs)\n",
        "    return model"
      ],
      "metadata": {
        "id": "_vqINWRLZBqI"
      },
      "execution_count": null,
      "outputs": []
    },
    {
      "cell_type": "code",
      "source": [
        "output = 10\n",
        "\n",
        "model = Sequential()\n",
        "model.add(Conv2D(64,(3,3),padding = 'same', kernel_initializer = 'he_uniform', input_shape = (256,256,3), activation = 'relu'))\n",
        "\n",
        "model.add(MaxPooling2D(2,2))\n",
        "\n",
        "model.add(Conv2D(128, (3,3), padding = 'same',  kernel_initializer = 'he_uniform', activation = 'relu'))\n",
        "\n",
        "model.add(MaxPooling2D(2,2))\n",
        "\n",
        "model.add(Conv2D(128,(3,3), padding='same',  kernel_initializer = 'he_uniform', activation='relu'))\n",
        "\n",
        "model.add(MaxPooling2D(2,2))\n",
        "\n",
        "model.add(Flatten())\n",
        "\n",
        "model.add(Dense(128, activation = 'relu',  kernel_initializer = 'he_uniform'))\n",
        "\n",
        "model.add(Dense(output, activation = 'softmax'))\n",
        "\n",
        "model.summary()"
      ],
      "metadata": {
        "colab": {
          "base_uri": "https://localhost:8080/"
        },
        "id": "CjpOd9GBZR7q",
        "outputId": "c19bd371-7956-4dc4-ea6f-62a86399e4c2"
      },
      "execution_count": null,
      "outputs": [
        {
          "output_type": "stream",
          "name": "stdout",
          "text": [
            "Model: \"sequential\"\n",
            "_________________________________________________________________\n",
            " Layer (type)                Output Shape              Param #   \n",
            "=================================================================\n",
            " conv2d (Conv2D)             (None, 256, 256, 64)      1792      \n",
            "                                                                 \n",
            " max_pooling2d (MaxPooling2D  (None, 128, 128, 64)     0         \n",
            " )                                                               \n",
            "                                                                 \n",
            " conv2d_1 (Conv2D)           (None, 128, 128, 128)     73856     \n",
            "                                                                 \n",
            " max_pooling2d_1 (MaxPooling  (None, 64, 64, 128)      0         \n",
            " 2D)                                                             \n",
            "                                                                 \n",
            " conv2d_2 (Conv2D)           (None, 64, 64, 128)       147584    \n",
            "                                                                 \n",
            " max_pooling2d_2 (MaxPooling  (None, 32, 32, 128)      0         \n",
            " 2D)                                                             \n",
            "                                                                 \n",
            " flatten (Flatten)           (None, 131072)            0         \n",
            "                                                                 \n",
            " dense (Dense)               (None, 128)               16777344  \n",
            "                                                                 \n",
            " dense_1 (Dense)             (None, 10)                1290      \n",
            "                                                                 \n",
            "=================================================================\n",
            "Total params: 17,001,866\n",
            "Trainable params: 17,001,866\n",
            "Non-trainable params: 0\n",
            "_________________________________________________________________\n"
          ]
        }
      ]
    },
    {
      "cell_type": "code",
      "source": [
        "model.compile(loss = 'categorical_crossentropy',optimizer = 'adam' , metrics = ['accuracy'])\n",
        "\n",
        "history = model.fit(training_set, epochs=20, validation_data=validation, batch_size=128)"
      ],
      "metadata": {
        "colab": {
          "base_uri": "https://localhost:8080/"
        },
        "id": "KqElKPVLZVjT",
        "outputId": "16e7f472-1467-41d7-a48f-0d57bbbc3888"
      },
      "execution_count": null,
      "outputs": [
        {
          "output_type": "stream",
          "name": "stdout",
          "text": [
            "Epoch 1/20\n",
            "32/32 [==============================] - 1700s 52s/step - loss: 4.7025 - accuracy: 0.3298 - val_loss: 1.3241 - val_accuracy: 0.5586\n",
            "Epoch 2/20\n",
            "32/32 [==============================] - 1399s 44s/step - loss: 0.9520 - accuracy: 0.6862 - val_loss: 0.6170 - val_accuracy: 0.8121\n",
            "Epoch 3/20\n",
            "32/32 [==============================] - 1407s 44s/step - loss: 0.3746 - accuracy: 0.8925 - val_loss: 0.4011 - val_accuracy: 0.8777\n",
            "Epoch 4/20\n",
            "32/32 [==============================] - 1402s 44s/step - loss: 0.1770 - accuracy: 0.9524 - val_loss: 0.2752 - val_accuracy: 0.9185\n",
            "Epoch 5/20\n",
            "32/32 [==============================] - 1380s 43s/step - loss: 0.0613 - accuracy: 0.9827 - val_loss: 0.2958 - val_accuracy: 0.9125\n",
            "Epoch 6/20\n",
            "32/32 [==============================] - 1382s 43s/step - loss: 0.0403 - accuracy: 0.9922 - val_loss: 0.2315 - val_accuracy: 0.9344\n",
            "Epoch 7/20\n",
            "32/32 [==============================] - 1382s 43s/step - loss: 0.0348 - accuracy: 0.9947 - val_loss: 0.2787 - val_accuracy: 0.9334\n",
            "Epoch 8/20\n",
            "32/32 [==============================] - 1370s 43s/step - loss: 0.0465 - accuracy: 0.9902 - val_loss: 0.2486 - val_accuracy: 0.9374\n",
            "Epoch 9/20\n",
            "32/32 [==============================] - 1379s 43s/step - loss: 0.0217 - accuracy: 0.9950 - val_loss: 0.2948 - val_accuracy: 0.9344\n",
            "Epoch 10/20\n",
            "32/32 [==============================] - 1381s 43s/step - loss: 0.0387 - accuracy: 0.9922 - val_loss: 0.2644 - val_accuracy: 0.9364\n",
            "Epoch 11/20\n",
            "32/32 [==============================] - 1374s 43s/step - loss: 0.0463 - accuracy: 0.9875 - val_loss: 0.3285 - val_accuracy: 0.9225\n",
            "Epoch 12/20\n",
            "32/32 [==============================] - 1381s 43s/step - loss: 0.0406 - accuracy: 0.9917 - val_loss: 0.2949 - val_accuracy: 0.9334\n",
            "Epoch 13/20\n",
            "32/32 [==============================] - 1381s 44s/step - loss: 0.0199 - accuracy: 0.9967 - val_loss: 0.2535 - val_accuracy: 0.9394\n",
            "Epoch 14/20\n",
            "32/32 [==============================] - 1372s 43s/step - loss: 0.0087 - accuracy: 0.9985 - val_loss: 0.2170 - val_accuracy: 0.9503\n",
            "Epoch 15/20\n",
            "32/32 [==============================] - 1365s 43s/step - loss: 0.0072 - accuracy: 0.9982 - val_loss: 0.2459 - val_accuracy: 0.9414\n",
            "Epoch 16/20\n",
            "32/32 [==============================] - 1372s 43s/step - loss: 0.0072 - accuracy: 0.9982 - val_loss: 0.2307 - val_accuracy: 0.9443\n",
            "Epoch 17/20\n",
            "32/32 [==============================] - 1371s 43s/step - loss: 0.0090 - accuracy: 0.9977 - val_loss: 0.2190 - val_accuracy: 0.9533\n",
            "Epoch 18/20\n",
            "32/32 [==============================] - 1368s 43s/step - loss: 0.0059 - accuracy: 0.9987 - val_loss: 0.2040 - val_accuracy: 0.9563\n",
            "Epoch 19/20\n",
            "32/32 [==============================] - 1376s 43s/step - loss: 0.0043 - accuracy: 0.9995 - val_loss: 0.2062 - val_accuracy: 0.9513\n",
            "Epoch 20/20\n",
            "32/32 [==============================] - 1380s 43s/step - loss: 0.0036 - accuracy: 0.9985 - val_loss: 0.2113 - val_accuracy: 0.9543\n"
          ]
        }
      ]
    },
    {
      "cell_type": "code",
      "source": [
        "# Đánh giá độ chính xác của mô hình \n",
        "Score=model.evaluate(training_set,verbose=0)\n",
        "print('Train Loss', Score[0])\n",
        "print('Train Accuracy', Score[1])"
      ],
      "metadata": {
        "id": "HAnue-SuZ0tY",
        "colab": {
          "base_uri": "https://localhost:8080/"
        },
        "outputId": "2a83b2d4-6159-4ea2-9882-13a7e3ebd2f9"
      },
      "execution_count": null,
      "outputs": [
        {
          "output_type": "stream",
          "name": "stdout",
          "text": [
            "Train Loss 0.0057297698222100735\n",
            "Train Accuracy 0.9984962344169617\n"
          ]
        }
      ]
    },
    {
      "cell_type": "code",
      "source": [
        "import matplotlib.pyplot as plt\n",
        "# Vẽ đồ thị giữa số lần học (Epochs) và độ chính xác (Accuracy)\n",
        "plt.plot(history.history['accuracy'])\n",
        "plt.plot(history.history['val_accuracy'])\n",
        "plt.title('Model Accuracy')\n",
        "plt.ylabel('Accuracy')\n",
        "plt.xlabel('Epochs')\n",
        "plt.legend(['Train','Validation'])\n",
        "plt.show\n"
      ],
      "metadata": {
        "colab": {
          "base_uri": "https://localhost:8080/",
          "height": 312
        },
        "id": "n1JS9-MzfRJj",
        "outputId": "caa8aeb4-cf83-4cce-c708-b822e9591395"
      },
      "execution_count": null,
      "outputs": [
        {
          "output_type": "execute_result",
          "data": {
            "text/plain": [
              "<function matplotlib.pyplot.show>"
            ]
          },
          "metadata": {},
          "execution_count": 11
        },
        {
          "output_type": "display_data",
          "data": {
            "text/plain": [
              "<Figure size 432x288 with 1 Axes>"
            ],
            "image/png": "[encoded data removed]"
          },
          "metadata": {
            "needs_background": "light"
          }
        }
      ]
    },
    {
      "cell_type": "code",
      "source": [
        "# Lưu lại\n",
        "model.save(\"fish_KOI.h5\")"
      ],
      "metadata": {
        "id": "rUYGK53bfV-c"
      },
      "execution_count": null,
      "outputs": []
    },
    {
      "cell_type": "code",
      "source": [
        "# Khai báo và sử dụng các thư viện sau\n",
        "from sklearn.model_selection import train_test_split\n",
        "import matplotlib.pyplot as plt\n",
        "import os\n",
        "import numpy as np\n",
        "import tensorflow as tf\n",
        "from keras.utils import np_utils\n",
        "from keras.models import Sequential\n",
        "from keras.layers import Dense, Activation, Dropout, Conv2D, MaxPooling2D, Flatten\n",
        "from tensorflow.keras.optimizers import SGD, RMSprop\n",
        "from keras.callbacks import EarlyStopping, ModelCheckpoint\n",
        "from sklearn.utils import validation \n",
        "from sklearn import preprocessing\n",
        "from tensorflow.keras.utils import to_categorical\n",
        "from tensorflow.keras.models import load_model\n",
        "from tensorflow.keras.utils import load_img, img_to_array\n",
        "from tensorflow.keras.preprocessing.image import ImageDataGenerator\n",
        "\n",
        "# Tải mô hình \n",
        "model_KOI=load_model('/content/drive/MyDrive/Final/fish_KOI.h5')"
      ],
      "metadata": {
        "id": "X1jXh6l_xsAc"
      },
      "execution_count": null,
      "outputs": []
    },
    {
      "cell_type": "code",
      "source": [
        "test=\"/content/drive/MyDrive/Final/test\"\n",
        "for i in os.listdir(test):\n",
        "  link = test+'/'+i\n",
        "  img=load_img(link,target_size=(256,256))\n",
        "  # plt.imshow(img)\n",
        "  img=img_to_array(img)\n",
        "  img=img.astype('float32')\n",
        "  img=img/255\n",
        "  img=np.expand_dims(img,axis=0)\n",
        "  result=model_KOI.predict(img)\n",
        "  if round(result[0][0])==1:\n",
        "    prediction='Asagi'\n",
        "  if round(result[0][1])==1:\n",
        "    prediction='Bekko'\n",
        "  if round(result[0][2])==1:\n",
        "    prediction='Difference'\n",
        "  if round(result[0][3])==1:\n",
        "    prediction='Hikarimuji mono'\n",
        "  if round(result[0][4])==1:\n",
        "    prediction='Kohaku'\n",
        "  if round(result[0][5])==1:\n",
        "    prediction='Sanke'\n",
        "  if round(result[0][6])==1:\n",
        "    prediction='Showa'\n",
        "  if round(result[0][7])==1:\n",
        "    prediction='Shusui'\n",
        "  if round(result[0][8])==1:\n",
        "    prediction='Tancho'\n",
        "  if round(result[0][9])==1:\n",
        "    prediction='Utsuri'\n",
        "  print(prediction)\n",
        "  plt.show()\n"
      ],
      "metadata": {
        "colab": {
          "base_uri": "https://localhost:8080/"
        },
        "id": "CFXv_FMgPei2",
        "outputId": "ba785c18-71e0-4d63-820b-45b411741ff7"
      },
      "execution_count": null,
      "outputs": [
        {
          "output_type": "stream",
          "name": "stdout",
          "text": [
            "Kohaku\n",
            "Showa\n",
            "Kohaku\n",
            "Showa\n",
            "Showa\n",
            "Asagi\n",
            "Asagi\n",
            "Hikarimuji mono\n",
            "Showa\n",
            "Kohaku\n",
            "Hikarimuji mono\n",
            "Sanke\n",
            "Showa\n",
            "Difference\n",
            "Difference\n",
            "Shusui\n"
          ]
        }
      ]
    },
    {
      "cell_type": "code",
      "source": [
        "classes = ['Asagi', 'Bekko', 'Difference', 'Hikarimuji mono', 'Kohaku','Sanke', \n",
        "           'Showa', 'Shusui', 'Tancho', 'Utsuri']\n",
        "\n",
        "from tensorflow.keras.utils import load_img, img_to_array\n",
        "import numpy as np\n",
        "import matplotlib.pyplot as plt\n",
        "\n",
        "test=\"/content/drive/MyDrive/Final/test\"\n",
        "address = []\n",
        "for i in os.listdir(test):\n",
        "  link = test+'/'+i\n",
        "  address.append(link)\n",
        "  \n",
        "\n",
        "  \n",
        "for add in address:\n",
        "  img = load_img(add,target_size=(256,256))\n",
        "  plt.imshow(img)\n",
        "  img = img_to_array(img)\n",
        "  img=img.reshape(1,256,256,3)\n",
        "  img=img.astype('float32')\n",
        "  img = img/255\n",
        "  print(\"Kết quả dự đoán:\")\n",
        "  print(classes[np.argmax(model_KOI.predict(img))])\n",
        "\n",
        "# print(address)\n",
        "# /content/drive/MyDrive/Final/test/1 (3).jpg\n",
        "# /content/drive/MyDrive/Final/test/1 (14).jpg\n",
        "# /content/drive/MyDrive/Final/test/1 (13).jpg\n",
        "# /content/drive/MyDrive/Final/test/1 (2).jpg\n",
        "# /content/drive/MyDrive/Final/test/1 (16).jpg\n",
        "# /content/drive/MyDrive/Final/test/1 (11).jpg\n",
        "# /content/drive/MyDrive/Final/test/1 (10).jpg\n",
        "# /content/drive/MyDrive/Final/test/1 (1).jpg\n",
        "# /content/drive/MyDrive/Final/test/1 (1).jpeg\n",
        "# /content/drive/MyDrive/Final/test/1 (9).jpg\n",
        "# /content/drive/MyDrive/Final/test/1 (5).jpg\n",
        "# /content/drive/MyDrive/Final/test/32.jpg\n",
        "# /content/drive/MyDrive/Final/test/29.jpg\n",
        "# /content/drive/MyDrive/Final/test/5.jpg\n",
        "# /content/drive/MyDrive/Final/test/4.jpg\n",
        "# /content/drive/MyDrive/Final/test/10.jpg"
      ],
      "metadata": {
        "id": "HUQSc9Y51M9l"
      },
      "execution_count": null,
      "outputs": []
    },
    {
      "cell_type": "code",
      "source": [
        "\n",
        "############################################# realtime\n",
        "from IPython.display import display, Javascript, Image\n",
        "# JavaScript to properly create our live video stream using our webcam as input\n",
        "\n",
        "def video_stream():\n",
        "  js = Javascript('''\n",
        "    var video;\n",
        "    var div = null;\n",
        "    var stream;\n",
        "    var captureCanvas;\n",
        "    var imgElement;\n",
        "    var labelElement;\n",
        "    \n",
        "    var pendingResolve = null;\n",
        "    var shutdown = false;\n",
        "    \n",
        "    function removeDom() {\n",
        "       stream.getVideoTracks()[0].stop();\n",
        "       video.remove();\n",
        "       div.remove();\n",
        "       video = null;\n",
        "       div = null;\n",
        "       stream = null;\n",
        "       imgElement = null;\n",
        "       captureCanvas = null;\n",
        "       labelElement = null;\n",
        "    }\n",
        "    \n",
        "    function onAnimationFrame() {\n",
        "      if (!shutdown) {\n",
        "        window.requestAnimationFrame(onAnimationFrame);\n",
        "      }\n",
        "      if (pendingResolve) {\n",
        "        var result = \"\";\n",
        "        if (!shutdown) {\n",
        "          captureCanvas.getContext('2d').drawImage(video, 0, 0, 640, 480);\n",
        "          result = captureCanvas.toDataURL('image/jpeg', 0.8)\n",
        "        }\n",
        "        var lp = pendingResolve;\n",
        "        pendingResolve = null;\n",
        "        lp(result);\n",
        "      }\n",
        "    }\n",
        "    \n",
        "    async function createDom() {\n",
        "      if (div !== null) {\n",
        "        return stream;\n",
        "      }\n",
        "\n",
        "      div = document.createElement('div');\n",
        "      div.style.border = '2px solid black';\n",
        "      div.style.padding = '3px';\n",
        "      div.style.width = '100%';\n",
        "      div.style.maxWidth = '600px';\n",
        "      document.body.appendChild(div);\n",
        "      \n",
        "      const modelOut = document.createElement('div');\n",
        "      modelOut.innerHTML = \"<span>Status:</span>\";\n",
        "      labelElement = document.createElement('span');\n",
        "      labelElement.innerText = 'No data';\n",
        "      labelElement.style.fontWeight = 'bold';\n",
        "      modelOut.appendChild(labelElement);\n",
        "      div.appendChild(modelOut);\n",
        "           \n",
        "      video = document.createElement('video');\n",
        "      video.style.display = 'block';\n",
        "      video.width = div.clientWidth - 6;\n",
        "      video.setAttribute('playsinline', '');\n",
        "      video.onclick = () => { shutdown = true; };\n",
        "      stream = await navigator.mediaDevices.getUserMedia(\n",
        "          {video: { facingMode: \"environment\"}});\n",
        "      div.appendChild(video);\n",
        "\n",
        "      imgElement = document.createElement('img');\n",
        "      imgElement.style.position = 'absolute';\n",
        "      imgElement.style.zIndex = 1;\n",
        "      imgElement.onclick = () => { shutdown = true; };\n",
        "      div.appendChild(imgElement);\n",
        "      \n",
        "      const instruction = document.createElement('div');\n",
        "      instruction.innerHTML = \n",
        "          '<span style=\"color: red; font-weight: bold;\">' +\n",
        "          'Bấm vào video để dừng</span>';\n",
        "      div.appendChild(instruction);\n",
        "      instruction.onclick = () => { shutdown = true; };\n",
        "      \n",
        "      video.srcObject = stream;\n",
        "      await video.play();\n",
        "\n",
        "      captureCanvas = document.createElement('canvas');\n",
        "      captureCanvas.width = 640; //video.videoWidth;\n",
        "      captureCanvas.height = 480; //video.videoHeight;\n",
        "      window.requestAnimationFrame(onAnimationFrame);\n",
        "      \n",
        "      return stream;\n",
        "    }\n",
        "    async function stream_frame(label, imgData) {\n",
        "      if (shutdown) {\n",
        "        removeDom();\n",
        "        shutdown = false;\n",
        "        return '';\n",
        "      }\n",
        "\n",
        "      var preCreate = Date.now();\n",
        "      stream = await createDom();\n",
        "      \n",
        "      var preShow = Date.now();\n",
        "      if (label != \"\") {\n",
        "        labelElement.innerHTML = label;\n",
        "      }\n",
        "            \n",
        "      if (imgData != \"\") {\n",
        "        var videoRect = video.getClientRects()[0];\n",
        "        imgElement.style.top = videoRect.top + \"px\";\n",
        "        imgElement.style.left = videoRect.left + \"px\";\n",
        "        imgElement.style.width = videoRect.width + \"px\";\n",
        "        imgElement.style.height = videoRect.height + \"px\";\n",
        "        imgElement.src = imgData;\n",
        "      }\n",
        "      \n",
        "      var preCapture = Date.now();\n",
        "      var result = await new Promise(function(resolve, reject) {\n",
        "        pendingResolve = resolve;\n",
        "      });\n",
        "      shutdown = false;\n",
        "      \n",
        "      return {'create': preShow - preCreate, \n",
        "              'show': preCapture - preShow, \n",
        "              'capture': Date.now() - preCapture,\n",
        "              'img': result};\n",
        "    }\n",
        "    ''')\n",
        "\n",
        "  display(js)\n",
        "  \n",
        "def video_frame(label, bbox):\n",
        "  data = eval_js('stream_frame(\"{}\", \"{}\")'.format(label, bbox))\n",
        "  return data"
      ],
      "metadata": {
        "id": "tq_Wm6Nz421y"
      },
      "execution_count": null,
      "outputs": []
    },
    {
      "cell_type": "code",
      "source": [
        "# function to convert the JavaScript object into an OpenCV image\n",
        "def js_to_image(js_reply):\n",
        "  \"\"\"\n",
        "  Params:\n",
        "          js_reply: JavaScript object containing image from webcam\n",
        "  Returns:\n",
        "          img: OpenCV BGR image\n",
        "  \"\"\"\n",
        "  # decode base64 image\n",
        "  image_bytes = b64decode(js_reply.split(',')[1])\n",
        "  # convert bytes to numpy array\n",
        "  jpg_as_np = np.frombuffer(image_bytes, dtype=np.uint8)\n",
        "  # decode numpy array into OpenCV BGR image\n",
        "  img = cv2.imdecode(jpg_as_np, flags=1)\n",
        "\n",
        "  return img\n",
        "\n",
        "# function to convert OpenCV Rectangle bounding box image into base64 byte string to be overlayed on video stream\n",
        "def bbox_to_bytes(bbox_array):\n",
        "  \"\"\"\n",
        "  Params:\n",
        "          bbox_array: Numpy array (pixels) containing rectangle to overlay on video stream.\n",
        "  Returns:\n",
        "        bytes: Base64 image byte string\n",
        "  \"\"\"\n",
        "  # convert array into PIL image\n",
        "  bbox_PIL = PIL.Image.fromarray(bbox_array, 'RGBA')\n",
        "  iobuf = io.BytesIO()\n",
        "  # format bbox into png for return\n",
        "  bbox_PIL.save(iobuf, format='png')\n",
        "  # format return string\n",
        "  bbox_bytes = 'data:image/png;base64,{}'.format((str(b64encode(iobuf.getvalue()), 'utf-8')))\n",
        "\n",
        "  return bbox_bytes"
      ],
      "metadata": {
        "id": "AIEewAIVUqLu"
      },
      "execution_count": null,
      "outputs": []
    },
    {
      "cell_type": "code",
      "source": [
        "%cd /content\n",
        "from google.colab.output import eval_js\n",
        "from google.colab.patches import cv2_imshow\n",
        "from base64 import b64decode, b64encode\n",
        "import numpy as np\n",
        "import PIL\n",
        "import io\n",
        "import cv2\n",
        "from keras.models import  load_model\n",
        "\n",
        "\n",
        "# start streaming video from webcam\n",
        "video_stream()\n",
        "# label for video\n",
        "label_html = 'Đang lấy hình ảnh...'\n",
        "# initialze bounding box to emptyA\n",
        "bbox = ''\n",
        "count = 0 \n",
        "\n",
        "# Load model Nhận diện\n",
        "model_file_path = \"/content/drive/MyDrive/Final/fish_KOI.h5\"\n",
        "\n",
        "vggmodel = load_model(model_file_path)\n",
        "# vggmodel1 = load_model(model_file_path_1)\n",
        "# vggmodel2= load_model(model_file_path_2)\n",
        "\n",
        "# classes =['Asagi', 'Bekko', 'Difference', 'Hikarimuji mono', 'Kohaku','Sanke', 'Showa', 'Shusui', 'Tancho', 'Utsuri']\n",
        "\n",
        "classes =['Asagi', 'Bekko', 'Bekko', 'Hikarimuji mono', 'Kohaku','Sanke', 'Showa', 'Shusui', 'Tancho', 'Utsuri']\n",
        "\n",
        "while True:\n",
        "    # Đọc ảnh trả về từ JS\n",
        "    js_reply = video_frame(label_html, bbox)\n",
        "    if not js_reply:\n",
        "        break\n",
        "\n",
        "    # convert JS response to OpenCV Image\n",
        "    frame = js_to_image(js_reply[\"img\"])\n",
        "\n",
        "    # Resize để đưa vào model\n",
        "    frame_p = cv2.resize(frame, dsize=(256,256))\n",
        "    # frame_p1 = cv2.resize(frame, dsize=(70,70))\n",
        "    # frame_p2 = cv2.resize(frame, dsize=(100,100))\n",
        "\n",
        "    tensor = np.expand_dims(frame_p, axis=0)\n",
        "    # tensor1 = np.expand_dims(frame_p1, axis=0)\n",
        "    # tensor2 = np.expand_dims(frame_p2, axis=0)\n",
        "\n",
        "    # Feed vào mạng\n",
        "    pred = vggmodel.predict(tensor)\n",
        "    \n",
        "    # pred1 = vggmodel1.predict(tensor1)\n",
        "    # pred2 = vggmodel2.predict(tensor2)\n",
        "\n",
        "    class_id = np.argmax(pred)\n",
        "    # class_id_1 = np.argmax(pred1)\n",
        "    # class_id_2 = np.argmax(pred2)\n",
        "    # label =['Sleep','No Sleep']\n",
        "    # if class_id == 2 or class_id == 3:\n",
        "    #   class_name = label[1] \n",
        "    # if class_id == 1 or class_id == 4:\n",
        "    #   class_name = label[0] \n",
        "    class_name = classes[class_id]  \n",
        "   \n",
        "\n",
        "    # class_name_1 = classes1[class_id_1]\n",
        "    # class_name_2 = classes2[class_id_2]\n",
        "    # Vẽ lên một ảnh để tẹo nữa overlay\n",
        "\n",
        "    # create transparent overlay for bounding box\n",
        "    bbox_array = np.zeros([480,640,4], dtype=np.uint8)\n",
        "   \n",
        "    bbox_array = cv2.putText(bbox_array, \"{}\".format(class_name),\n",
        "                        (10, 20), cv2.FONT_HERSHEY_SIMPLEX, 0.5,\n",
        "                        (0, 255,0), 2)\n",
        "    \n",
        "    y_pred = vggmodel.predict(tensor)\n",
        "    a = y_pred.max()\n",
        "    #a = a*100\n",
        "    bbox_array = cv2.putText(bbox_array, \"{}\".format(a),\n",
        "                        (400, 20), cv2.FONT_HERSHEY_SIMPLEX, 0.5,\n",
        "                        (0, 255,0), 2)   \n",
        "\n",
        "     \n",
        "    bbox_array[:,:,3] = (bbox_array.max(axis = 2) > 0 ).astype(int) * 255\n",
        "\n",
        "    # convert overlay of bbox into bytes\n",
        "    bbox_bytes = bbox_to_bytes(bbox_array)\n",
        "    # update bbox so next frame gets new overlay\n",
        "    bbox = bbox_bytes"
      ],
      "metadata": {
        "id": "gX7r-NTJUzWI"
      },
      "execution_count": null,
      "outputs": []
    },
    {
      "cell_type": "code",
      "source": [
        ""
      ],
      "metadata": {
        "id": "jNJkCv2NVLjA"
      },
      "execution_count": null,
      "outputs": []
    }
  ]
}